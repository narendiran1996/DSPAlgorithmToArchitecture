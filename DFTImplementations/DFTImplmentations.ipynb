{
 "metadata": {
  "language_info": {
   "codemirror_mode": {
    "name": "ipython",
    "version": 3
   },
   "file_extension": ".py",
   "mimetype": "text/x-python",
   "name": "python",
   "nbconvert_exporter": "python",
   "pygments_lexer": "ipython3",
   "version": "3.8.5"
  },
  "orig_nbformat": 4,
  "kernelspec": {
   "name": "python3",
   "display_name": "Python 3.8.5 64-bit"
  },
  "interpreter": {
   "hash": "31f2aee4e71d21fbe5cf8b01ff0e069b9275f58929596ceb00d14d90e3e16cd6"
  }
 },
 "nbformat": 4,
 "nbformat_minor": 2,
 "cells": [
  {
   "source": [
    "Reference: https://jakevdp.github.io/blog/2013/08/28/understanding-the-fft/"
   ],
   "cell_type": "markdown",
   "metadata": {}
  },
  {
   "cell_type": "code",
   "execution_count": 2,
   "metadata": {},
   "outputs": [],
   "source": [
    "import numpy as np\n",
    "import math\n",
    "import cmath\n",
    "import random\n",
    "import pyfftw\n",
    "np.set_printoptions(4)"
   ]
  },
  {
   "cell_type": "code",
   "execution_count": 3,
   "metadata": {},
   "outputs": [],
   "source": [
    "def DFTUsingForLoops(xin):\n",
    "    N = xin.shape[0]\n",
    "    Xout = np.zeros(xin.shape, dtype=np.complex)\n",
    "    for k in range(N):\n",
    "        tempX = 0\n",
    "        for n in range(N):\n",
    "            expVal = k * (2 * math.pi / N) * n\n",
    "            expValWithJ = cmath.exp(-1j*expVal)\n",
    "            tempX = tempX + (xin[n]*expValWithJ)\n",
    "        Xout[k] = tempX\n",
    "    return Xout   "
   ]
  },
  {
   "cell_type": "code",
   "execution_count": 4,
   "metadata": {},
   "outputs": [],
   "source": [
    "def DFTUsingVectorProduct(xin):\n",
    "    N = xin.shape[0]\n",
    "    kVector = np.arange(0, N, 1)\n",
    "    nVector = kVector.reshape(-1, 1)\n",
    "    ExpMat = np.exp((-1j*2*np.pi/N)*kVector* nVector)\n",
    "    return np.dot(xin, ExpMat)   "
   ]
  },
  {
   "cell_type": "code",
   "execution_count": 5,
   "metadata": {},
   "outputs": [],
   "source": [
    "def DFT2Point(xin):\n",
    "    return np.asarray([xin[0]+xin[1], xin[0]-xin[1]])\n",
    "\n",
    "\n",
    "def DFTUsingDITRecursive_2powers(xin):\n",
    "    N = xin.shape[0]\n",
    "    if np.log2(N) % 1 > 0:\n",
    "        print('N must powers of 2')\n",
    "        return\n",
    "    # if N <= 32:\n",
    "    #     return DFTUsingVectorProduct(xin)\n",
    "    if N == 2:\n",
    "        return DFT2Point(xin)\n",
    "    \n",
    "    xeven = xin[0::2]\n",
    "    xodd = xin[1::2]\n",
    "\n",
    "    Xeven = DFTUsingDITRecursive_2powers(xeven)\n",
    "    Xodd = DFTUsingDITRecursive_2powers(xodd)\n",
    "\n",
    "    WN = np.exp(-1j * (2*np.pi/N) * np.arange(0, N))\n",
    "\n",
    "    XoddM = np.multiply(Xodd, WN[ : N//2])\n",
    "\n",
    "    Temp1 = Xeven + XoddM\n",
    "    Temp2 = Xeven - XoddM\n",
    "    return np.hstack((Temp1, Temp2))"
   ]
  },
  {
   "cell_type": "code",
   "execution_count": null,
   "metadata": {},
   "outputs": [],
   "source": []
  },
  {
   "cell_type": "code",
   "execution_count": 6,
   "metadata": {},
   "outputs": [
    {
     "output_type": "stream",
     "name": "stdout",
     "text": [
      "[ 10.+0.0000e+00j  -1.-1.0000e+00j -16.-3.3065e-15j  -1.+1.0000e+00j]\n[ 10.+0.j  -1.-1.j -16.+0.j  -1.+1.j]\n"
     ]
    }
   ],
   "source": [
    "print(DFTUsingVectorProduct(np.asarray([-2, 7, -1, 6])))\n",
    "print(DFTUsingDITRecursive_2powers(np.asarray([-2, 7, -1, 6])))"
   ]
  },
  {
   "cell_type": "code",
   "execution_count": 7,
   "metadata": {},
   "outputs": [
    {
     "output_type": "stream",
     "name": "stdout",
     "text": [
      "[-0.2159 -0.1279 -0.3958 -0.9057 -0.9885 -0.0409 -0.295  -0.6527 -0.3041\n  0.9768 -0.1928 -0.1036 -0.8833  0.4259  0.2012 -0.7763]\n"
     ]
    }
   ],
   "source": [
    "# np.random.seed(15)\n",
    "tempX = np.random.uniform(-1,1,16)\n",
    "print(tempX)\n"
   ]
  },
  {
   "cell_type": "code",
   "execution_count": 8,
   "metadata": {},
   "outputs": [
    {
     "output_type": "stream",
     "name": "stdout",
     "text": [
      "[-4.2787+0.j     -0.9676+2.1474j  1.3831-0.1301j -0.2794+0.81j\n -1.7095-3.6722j  0.0411+0.0316j  1.3205-1.1196j  1.5587+0.9481j\n -1.8698+0.j      1.5587-0.9481j  1.3205+1.1196j  0.0411-0.0316j\n -1.7095+3.6722j -0.2794-0.81j    1.3831+0.1301j -0.9676-2.1474j]\n"
     ]
    }
   ],
   "source": [
    "gg =DFTUsingDITRecursive_2powers(tempX)\n",
    "print(gg)"
   ]
  },
  {
   "cell_type": "code",
   "execution_count": 9,
   "metadata": {},
   "outputs": [
    {
     "output_type": "stream",
     "name": "stdout",
     "text": [
      "[-4.2787+0.0000e+00j -0.9676+2.1474e+00j  1.3831-1.3008e-01j\n",
      " -0.2794+8.1000e-01j -1.7095-3.6722e+00j  0.0411+3.1636e-02j\n",
      "  1.3205-1.1196e+00j  1.5587+9.4811e-01j -1.8698+3.0980e-15j\n",
      "  1.5587-9.4811e-01j  1.3205+1.1196e+00j  0.0411-3.1636e-02j\n",
      " -1.7095+3.6722e+00j -0.2794-8.1000e-01j  1.3831+1.3008e-01j\n",
      " -0.9676-2.1474e+00j]\n",
      "[-4.2787+0.0000e+00j -0.9676+2.1474e+00j  1.3831-1.3008e-01j\n",
      " -0.2794+8.1000e-01j -1.7095-3.6722e+00j  0.0411+3.1636e-02j\n",
      "  1.3205-1.1196e+00j  1.5587+9.4811e-01j -1.8698+3.0980e-15j\n",
      "  1.5587-9.4811e-01j  1.3205+1.1196e+00j  0.0411-3.1636e-02j\n",
      " -1.7095+3.6722e+00j -0.2794-8.1000e-01j  1.3831+1.3008e-01j\n",
      " -0.9676-2.1474e+00j]\n",
      "[-4.2787+0.j     -0.9676+2.1474j  1.3831-0.1301j -0.2794+0.81j\n",
      " -1.7095-3.6722j  0.0411+0.0316j  1.3205-1.1196j  1.5587+0.9481j\n",
      " -1.8698+0.j      1.5587-0.9481j  1.3205+1.1196j  0.0411-0.0316j\n",
      " -1.7095+3.6722j -0.2794-0.81j    1.3831+0.1301j -0.9676-2.1474j]\n",
      "[-4.2787+0.j     -0.9676+2.1474j  1.3831-0.1301j -0.2794+0.81j\n",
      " -1.7095-3.6722j  0.0411+0.0316j  1.3205-1.1196j  1.5587+0.9481j\n",
      " -1.8698+0.j      1.5587-0.9481j  1.3205+1.1196j  0.0411-0.0316j\n",
      " -1.7095+3.6722j -0.2794-0.81j    1.3831+0.1301j -0.9676-2.1474j]\n"
     ]
    }
   ],
   "source": [
    "print(DFTUsingForLoops(tempX))\n",
    "print(DFTUsingVectorProduct(tempX))\n",
    "print(DFTUsingDITRecursive_2powers(tempX))\n",
    "print(np.fft.fft(tempX))"
   ]
  },
  {
   "cell_type": "code",
   "execution_count": 10,
   "metadata": {},
   "outputs": [],
   "source": [
    "x1 = np.random.random(1024)"
   ]
  },
  {
   "cell_type": "code",
   "execution_count": 11,
   "metadata": {},
   "outputs": [],
   "source": [
    "# %timeit DFTUsingForLoops(x1)"
   ]
  },
  {
   "cell_type": "code",
   "execution_count": 12,
   "metadata": {},
   "outputs": [],
   "source": [
    "# %timeit DFTUsingVectorProduct(x1)"
   ]
  },
  {
   "cell_type": "code",
   "execution_count": 13,
   "metadata": {},
   "outputs": [
    {
     "output_type": "stream",
     "name": "stdout",
     "text": [
      "24.9 ms ± 1.86 ms per loop (mean ± std. dev. of 7 runs, 10 loops each)\n"
     ]
    }
   ],
   "source": [
    "%timeit DFTUsingDITRecursive_2powers(x1)"
   ]
  },
  {
   "cell_type": "code",
   "execution_count": 14,
   "metadata": {},
   "outputs": [
    {
     "output_type": "stream",
     "name": "stdout",
     "text": [
      "29.1 µs ± 4.48 µs per loop (mean ± std. dev. of 7 runs, 10000 loops each)\n",
      "116 µs ± 6.05 µs per loop (mean ± std. dev. of 7 runs, 10000 loops each)\n"
     ]
    }
   ],
   "source": [
    "%timeit np.fft.fft(x1)\n",
    "%timeit pyfftw.interfaces.numpy_fft.fft(x1)"
   ]
  },
  {
   "cell_type": "code",
   "execution_count": 15,
   "metadata": {},
   "outputs": [
    {
     "output_type": "stream",
     "name": "stdout",
     "text": [
      "1.2560739669470201e-14\n"
     ]
    }
   ],
   "source": [
    "xin = np.random.random(1024)\n",
    "# print(xin)\n",
    "ans = DFTUsingDITRecursive_2powers(xin)\n",
    "ans2 = np.fft.fft(xin)\n",
    "print(np.max(np.abs(ans-ans2)))"
   ]
  },
  {
   "cell_type": "code",
   "execution_count": null,
   "metadata": {},
   "outputs": [],
   "source": []
  },
  {
   "cell_type": "code",
   "execution_count": null,
   "metadata": {},
   "outputs": [],
   "source": []
  },
  {
   "cell_type": "code",
   "execution_count": null,
   "metadata": {},
   "outputs": [],
   "source": []
  }
 ]
}